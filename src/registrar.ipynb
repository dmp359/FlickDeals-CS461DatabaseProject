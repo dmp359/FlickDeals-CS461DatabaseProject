{
 "cells": [
  {
   "cell_type": "markdown",
   "metadata": {},
   "source": [
    "# Working with  PostgreSQL in Jupyter Notebooks\n",
    "\n",
    "## Installing Libaries \n",
    "You can connect to PostgreSQL from Jupyter/Python by running following commands. We will use psycopg2 for working with \n",
    "PostgreSQL. We will use Pandas for showing our output in a better way. "
   ]
  },
  {
   "cell_type": "code",
   "execution_count": 18,
   "metadata": {},
   "outputs": [
    {
     "ename": "NameError",
     "evalue": "name 'Students' is not defined",
     "output_type": "error",
     "traceback": [
      "\u001b[0;31m---------------------------------------------------------------------------\u001b[0m",
      "\u001b[0;31mNameError\u001b[0m                                 Traceback (most recent call last)",
      "\u001b[0;32m<ipython-input-18-e5289a147d2d>\u001b[0m in \u001b[0;36m<module>\u001b[0;34m()\u001b[0m\n\u001b[1;32m      2\u001b[0m \u001b[0;31m#!pip install psycopg2\u001b[0m\u001b[0;34m\u001b[0m\u001b[0;34m\u001b[0m\u001b[0m\n\u001b[1;32m      3\u001b[0m \u001b[0;31m#!pip install pandas\u001b[0m\u001b[0;34m\u001b[0m\u001b[0;34m\u001b[0m\u001b[0m\n\u001b[0;32m----> 4\u001b[0;31m \u001b[0mStudents\u001b[0m\u001b[0;34m\u001b[0m\u001b[0m\n\u001b[0m",
      "\u001b[0;31mNameError\u001b[0m: name 'Students' is not defined"
     ]
    }
   ],
   "source": [
    "#You don't need to run this on Tux, on your local machine uncomment these lines and run it once.\n",
    "#!pip install psycopg2\n",
    "#!pip install pandas"
   ]
  },
  {
   "cell_type": "markdown",
   "metadata": {},
   "source": [
    "## Import the project code"
   ]
  },
  {
   "cell_type": "code",
   "execution_count": 1,
   "metadata": {},
   "outputs": [
    {
     "data": {
      "application/vnd.jupyter.widget-view+json": {
       "model_id": "c8bbef77cbf048f09c63bce6c7f8c34b",
       "version_major": 2,
       "version_minor": 0
      },
      "text/html": [
       "<p>Failed to display Jupyter Widget of type <code>Tab</code>.</p>\n",
       "<p>\n",
       "  If you're reading this message in Jupyter Notebook or JupyterLab, it may mean\n",
       "  that the widgets JavaScript is still loading. If this message persists, it\n",
       "  likely means that the widgets JavaScript library is either not installed or\n",
       "  not enabled. See the <a href=\"https://ipywidgets.readthedocs.io/en/stable/user_install.html\">Jupyter\n",
       "  Widgets Documentation</a> for setup instructions.\n",
       "</p>\n",
       "<p>\n",
       "  If you're reading this message in another notebook frontend (for example, a static\n",
       "  rendering on GitHub or <a href=\"https://nbviewer.jupyter.org/\">NBViewer</a>),\n",
       "  it may mean that your frontend doesn't currently support widgets.\n",
       "</p>\n"
      ],
      "text/plain": [
       "Tab(children=(VBox(children=(HTML(value='\\n        <link rel=\"stylesheet\" href=\"styles.css\">\\n        Hi and welcome to <b>Flick Deals</b>\\n        <img src=\"http://images.clipartpanda.com/money-clipart-money-pics-free.png\" height=50 width = 50>\\n        <h1> Check out today\\'s hottest deals! </h1>\\n    '), HBox(children=(Text(value='', description='Find Deal:', placeholder='Search'), Button(description='Search', style=ButtonStyle()), Button(description='Browse All', style=ButtonStyle()))), HBox(children=(VBox(children=(Label(value='Round trip to India $250'), HTML(value='\\n        <img src=\"http://bit.ly/2IhLVgA\" height=50 width = 50>\\n        '), Accordion(children=(VBox(children=(Label(value='Offer valid during month of January and February'), IntSlider(value=5, continuous_update=False, description='Rate:', max=5, min=1), HBox(children=(Button(description='Submit Rating', style=ButtonStyle()), Button(description='Favorite Deal', style=ButtonStyle()))))),), selected_index=None, _titles={'0': 'See details'}), Label(value='Round trip to Uk for $200'), HTML(value='\\n        <img src=\"http://bit.ly/2wETmsw\" height=50 width = 50>\\n        '), Accordion(children=(VBox(children=(Label(value='Offer valid during month of January and February'), IntSlider(value=5, continuous_update=False, description='Rate:', max=5, min=1), HBox(children=(Button(description='Submit Rating', style=ButtonStyle()), Button(description='Favorite Deal', style=ButtonStyle()))))),), selected_index=None, _titles={'0': 'See details'}))), VBox(children=(Label(value='Air Jordan'), HTML(value='\\n        <img src=\"http://bit.ly/2IzTXjZ\" height=50 width = 50>\\n        '), Accordion(children=(VBox(children=(Label(value='Air Jordan for $150'), IntSlider(value=5, continuous_update=False, description='Rate:', max=5, min=1), HBox(children=(Button(description='Submit Rating', style=ButtonStyle()), Button(description='Favorite Deal', style=ButtonStyle()))))),), selected_index=None, _titles={'0': 'See details'}), Label(value='Special Deals'), HTML(value='\\n        <img src=\"https://read.bi/2KXUlHv\" height=50 width = 50>\\n        '), Accordion(children=(VBox(children=(Label(value='3 Medium Pizza for $20'), IntSlider(value=5, continuous_update=False, description='Rate:', max=5, min=1), HBox(children=(Button(description='Submit Rating', style=ButtonStyle()), Button(description='Favorite Deal', style=ButtonStyle()))))),), selected_index=None, _titles={'0': 'See details'}))), VBox(children=(Label(value='Discount on golf kit'), HTML(value='\\n        <img src=\"http://bit.ly/2IBnV7s\" height=50 width = 50>\\n        '), Accordion(children=(VBox(children=(Label(value='$100 off your first order of nike Golf kit'), IntSlider(value=5, continuous_update=False, description='Rate:', max=5, min=1), HBox(children=(Button(description='Submit Rating', style=ButtonStyle()), Button(description='Favorite Deal', style=ButtonStyle()))))),), selected_index=None, _titles={'0': 'See details'}), Label(value='Pizza Hut : Discount'), HTML(value='\\n        <img src=\"https://www.bleepstatic.com/content/posts/2017/10/15/PizzaHut.jpg\" height=50 width = 50>\\n        '), Accordion(children=(VBox(children=(Label(value='$10 off your first order at PizzaHut.com!'), IntSlider(value=5, continuous_update=False, description='Rate:', max=5, min=1), HBox(children=(Button(description='Submit Rating', style=ButtonStyle()), Button(description='Favorite Deal', style=ButtonStyle()))))),), selected_index=None, _titles={'0': 'See details'}))))))), VBox(children=(HTML(value='\\n        <link rel=\"stylesheet\" href=\"styles.css\">\\n        Check out <b>top retailers</b>! \\n        <img src=\"https://openclipart.org/download/279010/Simple-Isometric-Store.svg\" height=50 width = 50>\\n    '), HTML(value='\\n            <div class=\"grid-container\">\\n                <div class=\"grid-item\"> <a href=\"https://pizzahut.com\" target=\"_blank\">Pizza Hut</a></div>\\n                <div class=\"grid-item\">\\n                    <img src=\"https://bit.ly/2IbLOCR\" height=50 width=50>\\n                </div>\\n            </div>\\n        \\n            <div class=\"grid-container\">\\n                <div class=\"grid-item\"> <a href=\"https://apple.com\" target=\"_blank\">Apple</a></div>\\n                <div class=\"grid-item\">\\n                    <img src=\"https://apple.co/2Ilxbc8\" height=50 width=50>\\n                </div>\\n            </div>\\n        \\n            <div class=\"grid-container\">\\n                <div class=\"grid-item\"> <a href=\"https://www.nike.com\" target=\"_blank\">Nike</a></div>\\n                <div class=\"grid-item\">\\n                    <img src=\"http://bit.ly/2KYpEBP\" height=50 width=50>\\n                </div>\\n            </div>\\n        \\n            <div class=\"grid-container\">\\n                <div class=\"grid-item\"> <a href=\"https://www.ikea.com\" target=\"_blank\">Ikea</a></div>\\n                <div class=\"grid-item\">\\n                    <img src=\"http://bit.ly/2jWp8rU\" height=50 width=50>\\n                </div>\\n            </div>\\n        \\n            <div class=\"grid-container\">\\n                <div class=\"grid-item\"> <a href=\"https://www.adidas.com\" target=\"_blank\">Adidas</a></div>\\n                <div class=\"grid-item\">\\n                    <img src=\"http://bit.ly/2jUJH8d\" height=50 width=50>\\n                </div>\\n            </div>\\n        \\n            <div class=\"grid-container\">\\n                <div class=\"grid-item\"> <a href=\"https://www.yamaha.com\" target=\"_blank\">Yamaha</a></div>\\n                <div class=\"grid-item\">\\n                    <img src=\"http://bit.ly/2rEHFNK\" height=50 width=50>\\n                </div>\\n            </div>\\n        \\n            <div class=\"grid-container\">\\n                <div class=\"grid-item\"> <a href=\"https://www.bmw.com\" target=\"_blank\">BMW</a></div>\\n                <div class=\"grid-item\">\\n                    <img src=\"http://bit.ly/2wEa1fN\" height=50 width=50>\\n                </div>\\n            </div>\\n        \\n            <div class=\"grid-container\">\\n                <div class=\"grid-item\"> <a href=\"https://www.zara.com\" target=\"_blank\">Zara</a></div>\\n                <div class=\"grid-item\">\\n                    <img src=\"http://bit.ly/2IdyVZi\" height=50 width=50>\\n                </div>\\n            </div>\\n        \\n            <div class=\"grid-container\">\\n                <div class=\"grid-item\"> <a href=\"https://www.staples.com\" target=\"_blank\">Staples</a></div>\\n                <div class=\"grid-item\">\\n                    <img src=\"http://bit.ly/2KVljzs\" height=50 width=50>\\n                </div>\\n            </div>\\n        \\n            <div class=\"grid-container\">\\n                <div class=\"grid-item\"> <a href=\"https://www.expedia.com\" target=\"_blank\">Expedia</a></div>\\n                <div class=\"grid-item\">\\n                    <img src=\"https://bit.ly/2rFKspU\" height=50 width=50>\\n                </div>\\n            </div>\\n        ')))), _titles={'2': 'Search Results', '1': 'Businesses', '0': 'Home'})"
      ]
     },
     "metadata": {},
     "output_type": "display_data"
    },
    {
     "name": "stdout",
     "output_type": "stream",
     "text": [
      "Input not in bounds. Please enter a deal number between 0 and 0\n",
      "You chose to rate DID = DealId1\n",
      "You chose to rate DID = DealId5\n",
      "Input not in bounds. Please enter a deal number between 0 and 10\n"
     ]
    },
    {
     "ename": "TypeError",
     "evalue": "'int' object is not subscriptable",
     "output_type": "error",
     "traceback": [
      "\u001b[0;31m---------------------------------------------------------------------------\u001b[0m",
      "\u001b[0;31mTypeError\u001b[0m                                 Traceback (most recent call last)",
      "\u001b[0;32m~/cs461-proj/FlickDeals-CS461DatabaseProject/src/UI.py\u001b[0m in \u001b[0;36mrun_favorite_query\u001b[0;34m(sender)\u001b[0m\n\u001b[1;32m     28\u001b[0m \u001b[0;31m# Homepage favorite button(s)\u001b[0m\u001b[0;34m\u001b[0m\u001b[0;34m\u001b[0m\u001b[0m\n\u001b[1;32m     29\u001b[0m \u001b[0;32mdef\u001b[0m \u001b[0mrun_favorite_query\u001b[0m\u001b[0;34m(\u001b[0m\u001b[0msender\u001b[0m\u001b[0;34m)\u001b[0m\u001b[0;34m:\u001b[0m\u001b[0;34m\u001b[0m\u001b[0m\n\u001b[0;32m---> 30\u001b[0;31m     \u001b[0mdeal_index\u001b[0m \u001b[0;34m=\u001b[0m \u001b[0mfavorite_button_dict\u001b[0m\u001b[0;34m[\u001b[0m\u001b[0msender\u001b[0m\u001b[0;34m]\u001b[0m\u001b[0;34m[\u001b[0m\u001b[0;36m0\u001b[0m\u001b[0;34m]\u001b[0m \u001b[0;31m#lookup in dict for which button was clicked\u001b[0m\u001b[0;34m\u001b[0m\u001b[0m\n\u001b[0m\u001b[1;32m     31\u001b[0m     \u001b[0mdeal_ID\u001b[0m \u001b[0;34m=\u001b[0m \u001b[0mfavorite_button_dict\u001b[0m\u001b[0;34m[\u001b[0m\u001b[0msender\u001b[0m\u001b[0;34m]\u001b[0m\u001b[0;34m[\u001b[0m\u001b[0;36m1\u001b[0m\u001b[0;34m]\u001b[0m \u001b[0;31m#lookup in dict for which ID corresponds\u001b[0m\u001b[0;34m\u001b[0m\u001b[0m\n\u001b[1;32m     32\u001b[0m     \u001b[0mprint\u001b[0m\u001b[0;34m(\u001b[0m\u001b[0;34m'You chose to rate deal ID: '\u001b[0m \u001b[0;34m+\u001b[0m \u001b[0mdeal_ID\u001b[0m \u001b[0;34m+\u001b[0m \u001b[0;34m' with a value of '\u001b[0m \u001b[0;34m+\u001b[0m \u001b[0mstr\u001b[0m\u001b[0;34m(\u001b[0m\u001b[0mrating_sliders\u001b[0m\u001b[0;34m[\u001b[0m\u001b[0mdeal_index\u001b[0m\u001b[0;34m]\u001b[0m\u001b[0;34m.\u001b[0m\u001b[0mvalue\u001b[0m\u001b[0;34m)\u001b[0m\u001b[0;34m)\u001b[0m\u001b[0;34m\u001b[0m\u001b[0m\n",
      "\u001b[0;31mTypeError\u001b[0m: 'int' object is not subscriptable"
     ]
    },
    {
     "ename": "TypeError",
     "evalue": "Can't convert 'int' object to str implicitly",
     "output_type": "error",
     "traceback": [
      "\u001b[0;31m---------------------------------------------------------------------------\u001b[0m",
      "\u001b[0;31mTypeError\u001b[0m                                 Traceback (most recent call last)",
      "\u001b[0;32m~/cs461-proj/FlickDeals-CS461DatabaseProject/src/UI.py\u001b[0m in \u001b[0;36mrun_rate_query\u001b[0;34m(sender)\u001b[0m\n\u001b[1;32m     40\u001b[0m     \u001b[0mdeal_index\u001b[0m \u001b[0;34m=\u001b[0m \u001b[0mrating_button_dict\u001b[0m\u001b[0;34m[\u001b[0m\u001b[0msender\u001b[0m\u001b[0;34m]\u001b[0m \u001b[0;31m#lookup in dict for which button was clicked\u001b[0m\u001b[0;34m\u001b[0m\u001b[0m\n\u001b[1;32m     41\u001b[0m     \u001b[0mdeal_ID\u001b[0m \u001b[0;34m=\u001b[0m \u001b[0mrating_button_dict\u001b[0m\u001b[0;34m[\u001b[0m\u001b[0msender\u001b[0m\u001b[0;34m]\u001b[0m \u001b[0;31m#lookup in dict for which ID corresponds\u001b[0m\u001b[0;34m\u001b[0m\u001b[0m\n\u001b[0;32m---> 42\u001b[0;31m     \u001b[0mprint\u001b[0m\u001b[0;34m(\u001b[0m\u001b[0;34m'You chose to rate deal ID: '\u001b[0m \u001b[0;34m+\u001b[0m \u001b[0mdeal_ID\u001b[0m \u001b[0;34m+\u001b[0m \u001b[0;34m' with a value of '\u001b[0m \u001b[0;34m+\u001b[0m \u001b[0mstr\u001b[0m\u001b[0;34m(\u001b[0m\u001b[0mrating_sliders\u001b[0m\u001b[0;34m[\u001b[0m\u001b[0mdeal_index\u001b[0m\u001b[0;34m]\u001b[0m\u001b[0;34m.\u001b[0m\u001b[0mvalue\u001b[0m\u001b[0;34m)\u001b[0m\u001b[0;34m)\u001b[0m\u001b[0;34m\u001b[0m\u001b[0m\n\u001b[0m\u001b[1;32m     43\u001b[0m     \u001b[0mman\u001b[0m \u001b[0;34m=\u001b[0m \u001b[0mQueryManager\u001b[0m\u001b[0;34m(\u001b[0m\u001b[0;34m)\u001b[0m\u001b[0;34m\u001b[0m\u001b[0m\n\u001b[1;32m     44\u001b[0m     \u001b[0mres\u001b[0m \u001b[0;34m=\u001b[0m \u001b[0mman\u001b[0m\u001b[0;34m.\u001b[0m\u001b[0mopenDBConnectionWithBundle\u001b[0m\u001b[0;34m(\u001b[0m\u001b[0;34m\"PgBundle.properties\"\u001b[0m\u001b[0;34m)\u001b[0m\u001b[0;34m\u001b[0m\u001b[0m\n",
      "\u001b[0;31mTypeError\u001b[0m: Can't convert 'int' object to str implicitly"
     ]
    }
   ],
   "source": [
    "import UI\n",
    "UI.launch()"
   ]
  },
  {
   "cell_type": "markdown",
   "metadata": {},
   "source": [
    "## Test The Registrar\n"
   ]
  },
  {
   "cell_type": "code",
   "execution_count": 3,
   "metadata": {
    "scrolled": true
   },
   "outputs": [
    {
     "name": "stdout",
     "output_type": "stream",
     "text": [
      "Servus: 2018-05-11 00:42:09.813748+00:00\n",
      "Registered a new student: 7 Julia None\n",
      "Updated GPA for student: 7 Julia 3.9\n"
     ]
    },
    {
     "data": {
      "text/html": [
       "<div>\n",
       "<style>\n",
       "    .dataframe thead tr:only-child th {\n",
       "        text-align: right;\n",
       "    }\n",
       "\n",
       "    .dataframe thead th {\n",
       "        text-align: left;\n",
       "    }\n",
       "\n",
       "    .dataframe tbody tr th {\n",
       "        vertical-align: top;\n",
       "    }\n",
       "</style>\n",
       "<table border=\"1\" class=\"dataframe\">\n",
       "  <thead>\n",
       "    <tr style=\"text-align: right;\">\n",
       "      <th></th>\n",
       "      <th>sid</th>\n",
       "      <th>name</th>\n",
       "      <th>gpa</th>\n",
       "    </tr>\n",
       "  </thead>\n",
       "  <tbody>\n",
       "    <tr>\n",
       "      <th>0</th>\n",
       "      <td>1</td>\n",
       "      <td>Jane</td>\n",
       "      <td>4</td>\n",
       "    </tr>\n",
       "    <tr>\n",
       "      <th>1</th>\n",
       "      <td>2</td>\n",
       "      <td>Mike</td>\n",
       "      <td>3.75</td>\n",
       "    </tr>\n",
       "    <tr>\n",
       "      <th>2</th>\n",
       "      <td>3</td>\n",
       "      <td>Ann</td>\n",
       "      <td>3.3</td>\n",
       "    </tr>\n",
       "    <tr>\n",
       "      <th>3</th>\n",
       "      <td>4</td>\n",
       "      <td>Mike</td>\n",
       "      <td>2.8</td>\n",
       "    </tr>\n",
       "    <tr>\n",
       "      <th>4</th>\n",
       "      <td>5</td>\n",
       "      <td>Daniel</td>\n",
       "      <td>3.92</td>\n",
       "    </tr>\n",
       "    <tr>\n",
       "      <th>5</th>\n",
       "      <td>6</td>\n",
       "      <td>Julia</td>\n",
       "      <td>3.9</td>\n",
       "    </tr>\n",
       "    <tr>\n",
       "      <th>6</th>\n",
       "      <td>7</td>\n",
       "      <td>Julia</td>\n",
       "      <td>3.9</td>\n",
       "    </tr>\n",
       "  </tbody>\n",
       "</table>\n",
       "</div>"
      ],
      "text/plain": [
       "  sid    name   gpa\n",
       "0   1    Jane     4\n",
       "1   2    Mike  3.75\n",
       "2   3     Ann   3.3\n",
       "3   4    Mike   2.8\n",
       "4   5  Daniel  3.92\n",
       "5   6   Julia   3.9\n",
       "6   7   Julia   3.9"
      ]
     },
     "execution_count": 3,
     "metadata": {},
     "output_type": "execute_result"
    }
   ],
   "source": [
    "reg = Registrar()\n",
    "responce = reg.openDBConnectionWithBundle(\"PgBundle.properties\")\n",
    "print (responce)\n",
    "\n",
    "newStudent = Student(\"Julia\")\n",
    "newStudent = reg.registerStudent(newStudent)\n",
    "print(\"Registered a new student: \" + str(newStudent))\n",
    "\n",
    "newStudent = reg.setGPA(newStudent.getId(), 3.9)\n",
    "print(\"Updated GPA for student: \" + str(newStudent))\n",
    "\n",
    "\n",
    "roster = reg.getRoster()\n",
    "reg.closeConnection()\n",
    "Student.showAsTable(roster)"
   ]
  },
  {
   "cell_type": "markdown",
   "metadata": {},
   "source": [
    "### Interactive Design"
   ]
  },
  {
   "cell_type": "code",
   "execution_count": 17,
   "metadata": {},
   "outputs": [],
   "source": []
  },
  {
   "cell_type": "code",
   "execution_count": 1,
   "metadata": {},
   "outputs": [
    {
     "data": {
      "application/vnd.jupyter.widget-view+json": {
       "model_id": "5f055390a6e447c1b7f0f5746f162f2d",
       "version_major": 2,
       "version_minor": 0
      },
      "text/html": [
       "<p>Failed to display Jupyter Widget of type <code>HTML</code>.</p>\n",
       "<p>\n",
       "  If you're reading this message in Jupyter Notebook or JupyterLab, it may mean\n",
       "  that the widgets JavaScript is still loading. If this message persists, it\n",
       "  likely means that the widgets JavaScript library is either not installed or\n",
       "  not enabled. See the <a href=\"https://ipywidgets.readthedocs.io/en/stable/user_install.html\">Jupyter\n",
       "  Widgets Documentation</a> for setup instructions.\n",
       "</p>\n",
       "<p>\n",
       "  If you're reading this message in another notebook frontend (for example, a static\n",
       "  rendering on GitHub or <a href=\"https://nbviewer.jupyter.org/\">NBViewer</a>),\n",
       "  it may mean that your frontend doesn't currently support widgets.\n",
       "</p>\n"
      ],
      "text/plain": [
       "HTML(value='Hello and welcome to <b>Flick Deals</b><br><img src=\"http://images.clipartpanda.com/money-clipart-money-pics-free.png\" height=50 width = 50>')"
      ]
     },
     "metadata": {},
     "output_type": "display_data"
    }
   ],
   "source": [
    "import UI\n",
    "UI.printHello()"
   ]
  },
  {
   "cell_type": "markdown",
   "metadata": {},
   "source": [
    "### Some other widgets..."
   ]
  },
  {
   "cell_type": "code",
   "execution_count": 25,
   "metadata": {},
   "outputs": [],
   "source": [
    "from ipywidgets import *"
   ]
  },
  {
   "cell_type": "code",
   "execution_count": 26,
   "metadata": {},
   "outputs": [
    {
     "data": {
      "application/vnd.jupyter.widget-view+json": {
       "model_id": "c15ef028e253427393a88fa375177497",
       "version_major": 2,
       "version_minor": 0
      },
      "text/html": [
       "<p>Failed to display Jupyter Widget of type <code>IntSlider</code>.</p>\n",
       "<p>\n",
       "  If you're reading this message in Jupyter Notebook or JupyterLab, it may mean\n",
       "  that the widgets JavaScript is still loading. If this message persists, it\n",
       "  likely means that the widgets JavaScript library is either not installed or\n",
       "  not enabled. See the <a href=\"https://ipywidgets.readthedocs.io/en/stable/user_install.html\">Jupyter\n",
       "  Widgets Documentation</a> for setup instructions.\n",
       "</p>\n",
       "<p>\n",
       "  If you're reading this message in another notebook frontend (for example, a static\n",
       "  rendering on GitHub or <a href=\"https://nbviewer.jupyter.org/\">NBViewer</a>),\n",
       "  it may mean that your frontend doesn't currently support widgets.\n",
       "</p>\n"
      ],
      "text/plain": [
       "IntSlider(value=5, continuous_update=False, description='Test:', max=10)"
      ]
     },
     "metadata": {},
     "output_type": "display_data"
    }
   ],
   "source": [
    "widgets.IntSlider(\n",
    "    value=5,\n",
    "    min=0,\n",
    "    max=10,\n",
    "    step=1,\n",
    "    description='Test:',\n",
    "    disabled=False,\n",
    "    continuous_update=False,\n",
    "    orientation='horizontal',\n",
    "    readout=True,\n",
    "    readout_format='d'\n",
    ")"
   ]
  },
  {
   "cell_type": "code",
   "execution_count": 7,
   "metadata": {},
   "outputs": [
    {
     "data": {
      "application/vnd.jupyter.widget-view+json": {
       "model_id": "5b8c992c8cc74848a80eaa57b3275715",
       "version_major": 2,
       "version_minor": 0
      },
      "text/html": [
       "<p>Failed to display Jupyter Widget of type <code>IntProgress</code>.</p>\n",
       "<p>\n",
       "  If you're reading this message in Jupyter Notebook or JupyterLab, it may mean\n",
       "  that the widgets JavaScript is still loading. If this message persists, it\n",
       "  likely means that the widgets JavaScript library is either not installed or\n",
       "  not enabled. See the <a href=\"https://ipywidgets.readthedocs.io/en/stable/user_install.html\">Jupyter\n",
       "  Widgets Documentation</a> for setup instructions.\n",
       "</p>\n",
       "<p>\n",
       "  If you're reading this message in another notebook frontend (for example, a static\n",
       "  rendering on GitHub or <a href=\"https://nbviewer.jupyter.org/\">NBViewer</a>),\n",
       "  it may mean that your frontend doesn't currently support widgets.\n",
       "</p>\n"
      ],
      "text/plain": [
       "IntProgress(value=7, description='Loading:', max=10)"
      ]
     },
     "metadata": {},
     "output_type": "display_data"
    }
   ],
   "source": [
    "widgets.IntProgress(\n",
    "    value=7,\n",
    "    min=0,\n",
    "    max=10,\n",
    "    step=1,\n",
    "    description='Loading:',\n",
    "    bar_style='', # 'success', 'info', 'warning', 'danger' or ''\n",
    "    orientation='horizontal'\n",
    ")"
   ]
  },
  {
   "cell_type": "code",
   "execution_count": 8,
   "metadata": {},
   "outputs": [
    {
     "data": {
      "application/vnd.jupyter.widget-view+json": {
       "model_id": "fe7dfdf66fa241fcbb54522c744b3ee3",
       "version_major": 2,
       "version_minor": 0
      },
      "text/html": [
       "<p>Failed to display Jupyter Widget of type <code>BoundedIntText</code>.</p>\n",
       "<p>\n",
       "  If you're reading this message in Jupyter Notebook or JupyterLab, it may mean\n",
       "  that the widgets JavaScript is still loading. If this message persists, it\n",
       "  likely means that the widgets JavaScript library is either not installed or\n",
       "  not enabled. See the <a href=\"https://ipywidgets.readthedocs.io/en/stable/user_install.html\">Jupyter\n",
       "  Widgets Documentation</a> for setup instructions.\n",
       "</p>\n",
       "<p>\n",
       "  If you're reading this message in another notebook frontend (for example, a static\n",
       "  rendering on GitHub or <a href=\"https://nbviewer.jupyter.org/\">NBViewer</a>),\n",
       "  it may mean that your frontend doesn't currently support widgets.\n",
       "</p>\n"
      ],
      "text/plain": [
       "BoundedIntText(value=7, description='Text:', max=10)"
      ]
     },
     "metadata": {},
     "output_type": "display_data"
    }
   ],
   "source": [
    "widgets.BoundedIntText(\n",
    "    value=7,\n",
    "    min=0,\n",
    "    max=10,\n",
    "    step=1,\n",
    "    description='Text:',\n",
    "    disabled=False\n",
    ")"
   ]
  },
  {
   "cell_type": "code",
   "execution_count": 9,
   "metadata": {},
   "outputs": [
    {
     "data": {
      "application/vnd.jupyter.widget-view+json": {
       "model_id": "613d4e855d9b4e97b38970442f8a0cc5",
       "version_major": 2,
       "version_minor": 0
      },
      "text/html": [
       "<p>Failed to display Jupyter Widget of type <code>Checkbox</code>.</p>\n",
       "<p>\n",
       "  If you're reading this message in Jupyter Notebook or JupyterLab, it may mean\n",
       "  that the widgets JavaScript is still loading. If this message persists, it\n",
       "  likely means that the widgets JavaScript library is either not installed or\n",
       "  not enabled. See the <a href=\"https://ipywidgets.readthedocs.io/en/stable/user_install.html\">Jupyter\n",
       "  Widgets Documentation</a> for setup instructions.\n",
       "</p>\n",
       "<p>\n",
       "  If you're reading this message in another notebook frontend (for example, a static\n",
       "  rendering on GitHub or <a href=\"https://nbviewer.jupyter.org/\">NBViewer</a>),\n",
       "  it may mean that your frontend doesn't currently support widgets.\n",
       "</p>\n"
      ],
      "text/plain": [
       "Checkbox(value=False, description='Check me')"
      ]
     },
     "metadata": {},
     "output_type": "display_data"
    }
   ],
   "source": [
    "widgets.Checkbox(### BoundedIntText\n",
    "    value=False,\n",
    "    description='Check me',\n",
    "    disabled=False\n",
    ")"
   ]
  },
  {
   "cell_type": "code",
   "execution_count": 10,
   "metadata": {},
   "outputs": [
    {
     "data": {
      "application/vnd.jupyter.widget-view+json": {
       "model_id": "07d91adc48554866bc35c5cf535fd478",
       "version_major": 2,
       "version_minor": 0
      },
      "text/html": [
       "<p>Failed to display Jupyter Widget of type <code>RadioButtons</code>.</p>\n",
       "<p>\n",
       "  If you're reading this message in Jupyter Notebook or JupyterLab, it may mean\n",
       "  that the widgets JavaScript is still loading. If this message persists, it\n",
       "  likely means that the widgets JavaScript library is either not installed or\n",
       "  not enabled. See the <a href=\"https://ipywidgets.readthedocs.io/en/stable/user_install.html\">Jupyter\n",
       "  Widgets Documentation</a> for setup instructions.\n",
       "</p>\n",
       "<p>\n",
       "  If you're reading this message in another notebook frontend (for example, a static\n",
       "  rendering on GitHub or <a href=\"https://nbviewer.jupyter.org/\">NBViewer</a>),\n",
       "  it may mean that your frontend doesn't currently support widgets.\n",
       "</p>\n"
      ],
      "text/plain": [
       "RadioButtons(description='Pizza:', options=('pepperoni', 'pineapple', 'anchovies'), value='pepperoni')"
      ]
     },
     "metadata": {},
     "output_type": "display_data"
    }
   ],
   "source": [
    "widgets.RadioButtons(\n",
    "    options=['pepperoni', 'pineapple', 'anchovies'],\n",
    "#     value='pineapple',\n",
    "    description='Pizza:',\n",
    "    disabled=False\n",
    ")"
   ]
  },
  {
   "cell_type": "code",
   "execution_count": 11,
   "metadata": {},
   "outputs": [
    {
     "data": {
      "application/vnd.jupyter.widget-view+json": {
       "model_id": "cac924cae54847bcb04fcad0561e7bc3",
       "version_major": 2,
       "version_minor": 0
      },
      "text/html": [
       "<p>Failed to display Jupyter Widget of type <code>SelectionSlider</code>.</p>\n",
       "<p>\n",
       "  If you're reading this message in Jupyter Notebook or JupyterLab, it may mean\n",
       "  that the widgets JavaScript is still loading. If this message persists, it\n",
       "  likely means that the widgets JavaScript library is either not installed or\n",
       "  not enabled. See the <a href=\"https://ipywidgets.readthedocs.io/en/stable/user_install.html\">Jupyter\n",
       "  Widgets Documentation</a> for setup instructions.\n",
       "</p>\n",
       "<p>\n",
       "  If you're reading this message in another notebook frontend (for example, a static\n",
       "  rendering on GitHub or <a href=\"https://nbviewer.jupyter.org/\">NBViewer</a>),\n",
       "  it may mean that your frontend doesn't currently support widgets.\n",
       "</p>\n"
      ],
      "text/plain": [
       "SelectionSlider(continuous_update=False, description='I like my eggs', index=1, options=('scrambled', 'sunny side up', 'poached', 'over easy'), value='sunny side up')"
      ]
     },
     "metadata": {},
     "output_type": "display_data"
    }
   ],
   "source": [
    "widgets.SelectionSlider(\n",
    "    options=['scrambled', 'sunny side up', 'poached', 'over easy'],\n",
    "    width = 600,\n",
    "    value='sunny side up',\n",
    "    description='I like my eggs',\n",
    "    disabled=False,\n",
    "    continuous_update=False,\n",
    "    orientation='horizontal',\n",
    "    readout=True\n",
    ")"
   ]
  },
  {
   "cell_type": "markdown",
   "metadata": {},
   "source": [
    "## More to Read:\n",
    "\n",
    "- http://jupyter.readthedocs.io/en/latest/install.html\n",
    "- https://www.compose.com/articles/getting-started-with-compose-postgresql-and-jupyter-notebooks/\n",
    "- https://pandas.pydata.org\n",
    "- http://ipywidgets.readthedocs.io/en/stable/examples/Widget%20List.html\n",
    "- http://initd.org/psycopg/docs/\n",
    "\n",
    "\n"
   ]
  },
  {
   "cell_type": "code",
   "execution_count": null,
   "metadata": {},
   "outputs": [],
   "source": []
  }
 ],
 "metadata": {
  "kernelspec": {
   "display_name": "Python 3",
   "language": "python",
   "name": "python3"
  },
  "language_info": {
   "codemirror_mode": {
    "name": "ipython",
    "version": 3
   },
   "file_extension": ".py",
   "mimetype": "text/x-python",
   "name": "python",
   "nbconvert_exporter": "python",
   "pygments_lexer": "ipython3",
   "version": "3.5.2"
  }
 },
 "nbformat": 4,
 "nbformat_minor": 2
}
