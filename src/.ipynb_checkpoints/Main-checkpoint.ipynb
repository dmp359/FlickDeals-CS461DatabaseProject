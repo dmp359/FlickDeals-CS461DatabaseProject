{
 "cells": [
  {
   "cell_type": "code",
   "execution_count": 1,
   "metadata": {},
   "outputs": [],
   "source": [
    "%load_ext autoreload\n",
    "\n",
    "%autoreload 2\n",
    "\n",
    "# Run this (on every manual reload) to auto reload kernel on file change\n",
    "# Note: A manual restart is required on db change"
   ]
  },
  {
   "cell_type": "code",
   "execution_count": 1,
   "metadata": {
    "scrolled": false
   },
   "outputs": [
    {
     "data": {
      "application/vnd.jupyter.widget-view+json": {
       "model_id": "02925ba1351f4832856b7d8023603786",
       "version_major": 2,
       "version_minor": 0
      },
      "text/html": [
       "<p>Failed to display Jupyter Widget of type <code>Tab</code>.</p>\n",
       "<p>\n",
       "  If you're reading this message in Jupyter Notebook or JupyterLab, it may mean\n",
       "  that the widgets JavaScript is still loading. If this message persists, it\n",
       "  likely means that the widgets JavaScript library is either not installed or\n",
       "  not enabled. See the <a href=\"https://ipywidgets.readthedocs.io/en/stable/user_install.html\">Jupyter\n",
       "  Widgets Documentation</a> for setup instructions.\n",
       "</p>\n",
       "<p>\n",
       "  If you're reading this message in another notebook frontend (for example, a static\n",
       "  rendering on GitHub or <a href=\"https://nbviewer.jupyter.org/\">NBViewer</a>),\n",
       "  it may mean that your frontend doesn't currently support widgets.\n",
       "</p>\n"
      ],
      "text/plain": [
       "Tab(children=(VBox(children=(HTML(value='\\n        <link rel=\"stylesheet\" href=\"styles.css\">\\n        Hi and welcome to <b>Flick Deals</b>\\n        <img src=\"http://images.clipartpanda.com/money-clipart-money-pics-free.png\" height=50 width = 50>\\n        <h1> Check out today\\'s hottest deals! </h1>\\n    '), HBox(children=(Text(value='', description='Find Deal:', placeholder='Search'), Button(description='Search', style=ButtonStyle()), Button(description='Browse All', style=ButtonStyle()))), HBox(children=(VBox(children=(Label(value='Free Insurance'), HTML(value='\\n        <img src=\"http://bit.ly/2rDYg4d\" height=50 width = 50>\\n        '), Accordion(children=(VBox(children=(Label(value='$850 worth of free insurance '), IntSlider(value=5, continuous_update=False, description='Rate:', max=5, min=1), HBox(children=(Button(description='Submit Rating', style=ButtonStyle()), Button(description='Favorite Deal', style=ButtonStyle()))))),), selected_index=None, _titles={'0': 'See details'}), Label(value='Discount on shoes'), HTML(value='\\n        <img src=\"http://bit.ly/2IaBVFA\" height=50 width = 50>\\n        '), Accordion(children=(VBox(children=(Label(value='Offer valid on limited stores. Till stock lasts'), IntSlider(value=5, continuous_update=False, description='Rate:', max=5, min=1), HBox(children=(Button(description='Submit Rating', style=ButtonStyle()), Button(description='Favorite Deal', style=ButtonStyle()))))),), selected_index=None, _titles={'0': 'See details'}))), VBox(children=(Label(value='$60 off'), HTML(value='\\n        <img src=\"http://bit.ly/2jSaHVC\" height=50 width = 50>\\n        '), Accordion(children=(VBox(children=(Label(value='40% off when you do more than $500 dollars worth of shopping'), IntSlider(value=5, continuous_update=False, description='Rate:', max=5, min=1), HBox(children=(Button(description='Submit Rating', style=ButtonStyle()), Button(description='Favorite Deal', style=ButtonStyle()))))),), selected_index=None, _titles={'0': 'See details'}), Label(value='Free Sneakers'), HTML(value='\\n        <img src=\"http://bit.ly/2IwuLer\" height=50 width = 50>\\n        '), Accordion(children=(VBox(children=(Label(value='Only valid in limited stores'), IntSlider(value=5, continuous_update=False, description='Rate:', max=5, min=1), HBox(children=(Button(description='Submit Rating', style=ButtonStyle()), Button(description='Favorite Deal', style=ButtonStyle()))))),), selected_index=None, _titles={'0': 'See details'}))), VBox(children=(Label(value='Special Deals'), HTML(value='\\n        <img src=\"https://read.bi/2KXUlHv\" height=50 width = 50>\\n        '), Accordion(children=(VBox(children=(Label(value='3 Medium Pizza for $20'), IntSlider(value=5, continuous_update=False, description='Rate:', max=5, min=1), HBox(children=(Button(description='Submit Rating', style=ButtonStyle()), Button(description='Favorite Deal', style=ButtonStyle()))))),), selected_index=None, _titles={'0': 'See details'}), Label(value='Discount on boats'), HTML(value='\\n        <img src=\"http://bit.ly/2IavX7E\" height=50 width = 50>\\n        '), Accordion(children=(VBox(children=(Label(value='$1000 off your first SMX32xv boat'), IntSlider(value=5, continuous_update=False, description='Rate:', max=5, min=1), HBox(children=(Button(description='Submit Rating', style=ButtonStyle()), Button(description='Favorite Deal', style=ButtonStyle()))))),), selected_index=None, _titles={'0': 'See details'}))))))), VBox(children=(HTML(value='\\n        <link rel=\"stylesheet\" href=\"styles.css\">\\n        Check out <b>top retailers</b>! \\n        <img src=\"https://openclipart.org/download/279010/Simple-Isometric-Store.svg\" height=50 width = 50>\\n    '), HTML(value='\\n            <div class=\"grid-container-tri\">\\n                <div class=\"grid-item\"> <a href=\"https://www.expedia.com\" target=\"_blank\">Expedia</a></div>\\n                <div class=\"grid-item\">\\n                    <img src=\"https://bit.ly/2rFKspU\" height=50 width=50>\\n                </div>\\n                <div class=\"grid-item\">Travel</div>\\n            </div>\\n        \\n            <div class=\"grid-container-tri\">\\n                <div class=\"grid-item\"> <a href=\"https://www.nike.com\" target=\"_blank\">Nike</a></div>\\n                <div class=\"grid-item\">\\n                    <img src=\"http://bit.ly/2KYpEBP\" height=50 width=50>\\n                </div>\\n                <div class=\"grid-item\">Shoe</div>\\n            </div>\\n        \\n            <div class=\"grid-container-tri\">\\n                <div class=\"grid-item\"> <a href=\"https://apple.com\" target=\"_blank\">Apple</a></div>\\n                <div class=\"grid-item\">\\n                    <img src=\"https://apple.co/2Ilxbc8\" height=50 width=50>\\n                </div>\\n                <div class=\"grid-item\">Electronics</div>\\n            </div>\\n        \\n            <div class=\"grid-container-tri\">\\n                <div class=\"grid-item\"> <a href=\"https://www.adidas.com\" target=\"_blank\">Adidas</a></div>\\n                <div class=\"grid-item\">\\n                    <img src=\"http://bit.ly/2jUJH8d\" height=50 width=50>\\n                </div>\\n                <div class=\"grid-item\">Sports</div>\\n            </div>\\n        \\n            <div class=\"grid-container-tri\">\\n                <div class=\"grid-item\"> <a href=\"https://www.ikea.com\" target=\"_blank\">Ikea</a></div>\\n                <div class=\"grid-item\">\\n                    <img src=\"http://bit.ly/2jWp8rU\" height=50 width=50>\\n                </div>\\n                <div class=\"grid-item\">Furniture</div>\\n            </div>\\n        \\n            <div class=\"grid-container-tri\">\\n                <div class=\"grid-item\"> <a href=\"https://www.yamaha.com\" target=\"_blank\">Yamaha</a></div>\\n                <div class=\"grid-item\">\\n                    <img src=\"http://bit.ly/2rEHFNK\" height=50 width=50>\\n                </div>\\n                <div class=\"grid-item\">Boats</div>\\n            </div>\\n        \\n            <div class=\"grid-container-tri\">\\n                <div class=\"grid-item\"> <a href=\"https://pizzahut.com\" target=\"_blank\">Pizza Hut</a></div>\\n                <div class=\"grid-item\">\\n                    <img src=\"https://bit.ly/2IbLOCR\" height=50 width=50>\\n                </div>\\n                <div class=\"grid-item\">Food</div>\\n            </div>\\n        \\n            <div class=\"grid-container-tri\">\\n                <div class=\"grid-item\"> <a href=\"https://www.zara.com\" target=\"_blank\">Zara</a></div>\\n                <div class=\"grid-item\">\\n                    <img src=\"http://bit.ly/2IdyVZi\" height=50 width=50>\\n                </div>\\n                <div class=\"grid-item\">Cloths</div>\\n            </div>\\n        \\n            <div class=\"grid-container-tri\">\\n                <div class=\"grid-item\"> <a href=\"https://www.bmw.com\" target=\"_blank\">BMW</a></div>\\n                <div class=\"grid-item\">\\n                    <img src=\"http://bit.ly/2wEa1fN\" height=50 width=50>\\n                </div>\\n                <div class=\"grid-item\">Cars</div>\\n            </div>\\n        \\n            <div class=\"grid-container-tri\">\\n                <div class=\"grid-item\"> <a href=\"https://www.staples.com\" target=\"_blank\">Staples</a></div>\\n                <div class=\"grid-item\">\\n                    <img src=\"http://bit.ly/2KVljzs\" height=50 width=50>\\n                </div>\\n                <div class=\"grid-item\">Office Supplies</div>\\n            </div>\\n        '))), VBox(children=(HTML(value='\\n        <h2>You</h2>\\n        <div class=\"card\">\\n            <img src=\"https://www.w3schools.com/howto/img_avatar.png\" alt=\"Avatar\" width = 100  height = 100\">\\n            <div class=\"container\">\\n                <h4><b>John Finkle. Age 18</b></h4> \\n                <p>Email: john.finkle@gmail.com</p> \\n            </div>\\n        </div>\\n        <h2>Your Favorited Deals:</h2>\\n        '), Label(value='No favorited deals')))), _titles={'2': 'Profile', '0': 'Home', '3': 'Search Results', '1': 'Businesses'})"
      ]
     },
     "metadata": {},
     "output_type": "display_data"
    },
    {
     "name": "stdout",
     "output_type": "stream",
     "text": [
      "Deal rated!\n",
      "You have already rated this deal\n",
      "You have already rated this deal\n",
      "Deal favorited! Check your profile.\n",
      "You have already rated this deal\n",
      "You have already rated this deal\n",
      "You have already rated this deal\n",
      "You have already rated this deal\n",
      "You have already rated this deal\n",
      "You have already rated this deal\n",
      "Deal rated!\n"
     ]
    }
   ],
   "source": [
    "import UI\n",
    "UI.launch()\n",
    "# Note: If output window is annoyingly small, click on the blank space to the left under \"In [2]\" to uncollapse"
   ]
  },
  {
   "cell_type": "code",
   "execution_count": null,
   "metadata": {},
   "outputs": [],
   "source": []
  }
 ],
 "metadata": {
  "kernelspec": {
   "display_name": "Python 3",
   "language": "python",
   "name": "python3"
  },
  "language_info": {
   "codemirror_mode": {
    "name": "ipython",
    "version": 3
   },
   "file_extension": ".py",
   "mimetype": "text/x-python",
   "name": "python",
   "nbconvert_exporter": "python",
   "pygments_lexer": "ipython3",
   "version": "3.5.2"
  }
 },
 "nbformat": 4,
 "nbformat_minor": 2
}
